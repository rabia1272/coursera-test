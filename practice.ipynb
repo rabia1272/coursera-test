{
  "nbformat": 4,
  "nbformat_minor": 0,
  "metadata": {
    "colab": {
      "name": "Untitled2.ipynb",
      "provenance": [],
      "authorship_tag": "ABX9TyP3svBdwfM5fdYMbu4hhoby",
      "include_colab_link": true
    },
    "kernelspec": {
      "name": "python3",
      "display_name": "Python 3"
    }
  },
  "cells": [
    {
      "cell_type": "markdown",
      "metadata": {
        "id": "view-in-github",
        "colab_type": "text"
      },
      "source": [
        "<a href=\"https://colab.research.google.com/github/rabia1272/coursera-test/blob/master/practice.ipynb\" target=\"_parent\"><img src=\"https://colab.research.google.com/assets/colab-badge.svg\" alt=\"Open In Colab\"/></a>"
      ]
    },
    {
      "cell_type": "code",
      "metadata": {
        "colab": {
          "base_uri": "https://localhost:8080/"
        },
        "id": "G-wrMSZJIwvK",
        "outputId": "ef7fbffd-c6c2-47fb-da89-1e50774781a6"
      },
      "source": [
        "ls\r\n"
      ],
      "execution_count": 2,
      "outputs": [
        {
          "output_type": "stream",
          "text": [
            "\u001b[0m\u001b[01;34msample_data\u001b[0m/\n"
          ],
          "name": "stdout"
        }
      ]
    },
    {
      "cell_type": "code",
      "metadata": {
        "colab": {
          "base_uri": "https://localhost:8080/"
        },
        "id": "vBot7uahJA9F",
        "outputId": "a574b440-ed8d-4ca3-d389-c0112d7017cc"
      },
      "source": [
        "a=2\r\n",
        "b=\"3\"\r\n",
        "print(\"a:\",a)\r\n",
        "z=a**4\r\n",
        "print(\"power=\",z)\r\n",
        "z1=b*3\r\n",
        "print(\"string power=\",z1)\r\n"
      ],
      "execution_count": 10,
      "outputs": [
        {
          "output_type": "stream",
          "text": [
            "a: 2\n",
            "power= 16\n",
            "string power= 333\n"
          ],
          "name": "stdout"
        }
      ]
    },
    {
      "cell_type": "code",
      "metadata": {
        "colab": {
          "base_uri": "https://localhost:8080/"
        },
        "id": "BeZkVO-AJzdN",
        "outputId": "46fff7af-a7e5-4a15-b7aa-60b4d4e77c76"
      },
      "source": [
        "i=0\r\n",
        "while (i<5):\r\n",
        "  print(\"i=\",i)\r\n",
        "  i+=1"
      ],
      "execution_count": 11,
      "outputs": [
        {
          "output_type": "stream",
          "text": [
            "i= 0\n",
            "i= 1\n",
            "i= 2\n",
            "i= 3\n",
            "i= 4\n"
          ],
          "name": "stdout"
        }
      ]
    },
    {
      "cell_type": "markdown",
      "metadata": {
        "id": "6lfhkbu2J71B"
      },
      "source": [
        "## **Defining Method section**"
      ]
    },
    {
      "cell_type": "code",
      "metadata": {
        "colab": {
          "base_uri": "https://localhost:8080/"
        },
        "id": "DrB5fTFjNG_6",
        "outputId": "e9db3acb-1f41-4d70-962e-74686c8f5aab"
      },
      "source": [
        "def add(a,b):\r\n",
        "  return a+b\r\n",
        "\r\n",
        "def display():\r\n",
        "  i=0\r\n",
        "  while(i<5):\r\n",
        "    print(i)\r\n",
        "    i+=2\r\n",
        "add(3,4)\r\n",
        "display()"
      ],
      "execution_count": 15,
      "outputs": [
        {
          "output_type": "stream",
          "text": [
            "0\n",
            "2\n",
            "4\n"
          ],
          "name": "stdout"
        }
      ]
    },
    {
      "cell_type": "markdown",
      "metadata": {
        "id": "eGivU32TNr8Z"
      },
      "source": [
        "# List and Dictionary Section"
      ]
    },
    {
      "cell_type": "code",
      "metadata": {
        "colab": {
          "base_uri": "https://localhost:8080/"
        },
        "id": "yjfrekbzNzQu",
        "outputId": "d38e1fc4-bba9-4b33-ae9a-f2c7e8eb43a9"
      },
      "source": [
        "name1=\"Rahul\"\r\n",
        "name2=\"John\"\r\n",
        "namelist=[name1,name2]\r\n",
        "type(namelist)"
      ],
      "execution_count": 38,
      "outputs": [
        {
          "output_type": "execute_result",
          "data": {
            "text/plain": [
              "list"
            ]
          },
          "metadata": {
            "tags": []
          },
          "execution_count": 38
        }
      ]
    },
    {
      "cell_type": "code",
      "metadata": {
        "colab": {
          "base_uri": "https://localhost:8080/"
        },
        "id": "SNRON53kOCxP",
        "outputId": "d5c0142a-679d-4bf7-dd39-72ceaf66aa75"
      },
      "source": [
        "namelist.append(\"sarah\")\r\n",
        "namelist"
      ],
      "execution_count": 39,
      "outputs": [
        {
          "output_type": "execute_result",
          "data": {
            "text/plain": [
              "['Rahul', 'John', 'sarah']"
            ]
          },
          "metadata": {
            "tags": []
          },
          "execution_count": 39
        }
      ]
    },
    {
      "cell_type": "code",
      "metadata": {
        "colab": {
          "base_uri": "https://localhost:8080/"
        },
        "id": "f0KEaTFxOJyc",
        "outputId": "1e26f381-4b83-4038-b545-a46246721ccc"
      },
      "source": [
        "namelist.insert(1,\"rabia\")\r\n",
        "namelist\r\n"
      ],
      "execution_count": 40,
      "outputs": [
        {
          "output_type": "execute_result",
          "data": {
            "text/plain": [
              "['Rahul', 'rabia', 'John', 'sarah']"
            ]
          },
          "metadata": {
            "tags": []
          },
          "execution_count": 40
        }
      ]
    },
    {
      "cell_type": "code",
      "metadata": {
        "colab": {
          "base_uri": "https://localhost:8080/"
        },
        "id": "4tTlzAsfOqwT",
        "outputId": "c22f9cac-d9ea-486d-c0c4-ef8fb7c14b4c"
      },
      "source": [
        "namelist1=namelist\r\n",
        "namelist.insert(2,\"weds\")\r\n",
        "namelist"
      ],
      "execution_count": 41,
      "outputs": [
        {
          "output_type": "execute_result",
          "data": {
            "text/plain": [
              "['Rahul', 'rabia', 'weds', 'John', 'sarah']"
            ]
          },
          "metadata": {
            "tags": []
          },
          "execution_count": 41
        }
      ]
    },
    {
      "cell_type": "code",
      "metadata": {
        "colab": {
          "base_uri": "https://localhost:8080/"
        },
        "id": "W-BjR353Pi_y",
        "outputId": "d3fbbd63-6f9c-49d2-9cb4-bbe5a95eab5e"
      },
      "source": [
        "namelist1\r\n"
      ],
      "execution_count": 42,
      "outputs": [
        {
          "output_type": "execute_result",
          "data": {
            "text/plain": [
              "['Rahul', 'rabia', 'weds', 'John', 'sarah']"
            ]
          },
          "metadata": {
            "tags": []
          },
          "execution_count": 42
        }
      ]
    },
    {
      "cell_type": "code",
      "metadata": {
        "colab": {
          "base_uri": "https://localhost:8080/"
        },
        "id": "83QioNcTProQ",
        "outputId": "e35eb15d-53ee-420f-c81c-ea46967f2762"
      },
      "source": [
        "namelist2=namelist.copy()\r\n",
        "namelist2.append(\"lisa\")\r\n",
        "namelist2"
      ],
      "execution_count": 48,
      "outputs": [
        {
          "output_type": "execute_result",
          "data": {
            "text/plain": [
              "['Rahul', 'rabia', 'weds', 'John', 'sarah', 'lisa']"
            ]
          },
          "metadata": {
            "tags": []
          },
          "execution_count": 48
        }
      ]
    },
    {
      "cell_type": "markdown",
      "metadata": {
        "id": "-jaiMB7gQO27"
      },
      "source": [
        "## **Tuple set and dictionary set**"
      ]
    },
    {
      "cell_type": "code",
      "metadata": {
        "colab": {
          "base_uri": "https://localhost:8080/"
        },
        "id": "FTE9qaa_QUfi",
        "outputId": "1322b676-d565-4dfd-9975-70b902df442c"
      },
      "source": [
        "my_list=[\"rahul\",9999]\r\n",
        "type(my_list)"
      ],
      "execution_count": 49,
      "outputs": [
        {
          "output_type": "execute_result",
          "data": {
            "text/plain": [
              "list"
            ]
          },
          "metadata": {
            "tags": []
          },
          "execution_count": 49
        }
      ]
    },
    {
      "cell_type": "code",
      "metadata": {
        "colab": {
          "base_uri": "https://localhost:8080/"
        },
        "id": "ePwGzlGWQc-G",
        "outputId": "04ce728b-11be-42f1-a99f-3a558c1d2584"
      },
      "source": [
        "my_tuple=tuple(my_list)\r\n",
        "type(my_tuple)\r\n",
        "print(my_tuple)\r\n",
        "my_set=set(my_tuple)\r\n",
        "print(my_set)\r\n",
        "my_tuple.count(\"rahul\")"
      ],
      "execution_count": 56,
      "outputs": [
        {
          "output_type": "stream",
          "text": [
            "('rahul', 9999)\n",
            "{'rahul', 9999}\n"
          ],
          "name": "stdout"
        },
        {
          "output_type": "execute_result",
          "data": {
            "text/plain": [
              "1"
            ]
          },
          "metadata": {
            "tags": []
          },
          "execution_count": 56
        }
      ]
    },
    {
      "cell_type": "markdown",
      "metadata": {
        "id": "2moRI8dGRKIa"
      },
      "source": [
        "## **importing packages and classsection**"
      ]
    },
    {
      "cell_type": "code",
      "metadata": {
        "colab": {
          "base_uri": "https://localhost:8080/"
        },
        "id": "gy8Cvq5iRPPO",
        "outputId": "85fc8f2c-ab9d-4ffb-a408-ffa8fbd83af9"
      },
      "source": [
        "import math as m\r\n",
        "m.factorial(5)\r\n",
        "m.sqrt(4)"
      ],
      "execution_count": 57,
      "outputs": [
        {
          "output_type": "execute_result",
          "data": {
            "text/plain": [
              "2.0"
            ]
          },
          "metadata": {
            "tags": []
          },
          "execution_count": 57
        }
      ]
    },
    {
      "cell_type": "code",
      "metadata": {
        "id": "OoELvEZVRalH"
      },
      "source": [
        "class myclass: \r\n",
        "  def add(self,a,b):\r\n",
        "    return a+b"
      ],
      "execution_count": 61,
      "outputs": []
    },
    {
      "cell_type": "code",
      "metadata": {
        "colab": {
          "base_uri": "https://localhost:8080/"
        },
        "id": "XMIsBsZRR1G7",
        "outputId": "4c247b82-db61-4dd6-c829-53a1a0bc9760"
      },
      "source": [
        "car1=myclass()\r\n",
        "car1.add(5,6)"
      ],
      "execution_count": 62,
      "outputs": [
        {
          "output_type": "execute_result",
          "data": {
            "text/plain": [
              "11"
            ]
          },
          "metadata": {
            "tags": []
          },
          "execution_count": 62
        }
      ]
    },
    {
      "cell_type": "markdown",
      "metadata": {
        "id": "NvSs-IrIJ6B3"
      },
      "source": [
        "# New section"
      ]
    }
  ]
}